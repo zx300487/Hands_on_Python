{
 "cells": [
  {
   "cell_type": "markdown",
   "id": "3b6b4584",
   "metadata": {},
   "source": [
    "# First Program\n",
    "\n",
    "**Program** A program is a procedure that tells a computer how to succeed a given task.\n"
   ]
  },
  {
   "cell_type": "code",
   "execution_count": 3,
   "id": "1619c081",
   "metadata": {},
   "outputs": [
    {
     "name": "stdout",
     "output_type": "stream",
     "text": [
      "Hello World!!\n",
      "This is the second line of code\n"
     ]
    }
   ],
   "source": [
    "print (\"Hello World!!\") # Function with argument.\n",
    "\n",
    "print (\"This is the second line of code\")"
   ]
  },
  {
   "cell_type": "code",
   "execution_count": 4,
   "id": "5d13c6cf",
   "metadata": {},
   "outputs": [
    {
     "data": {
      "text/plain": [
       "7"
      ]
     },
     "execution_count": 4,
     "metadata": {},
     "output_type": "execute_result"
    }
   ],
   "source": [
    "5 + 2"
   ]
  },
  {
   "cell_type": "markdown",
   "id": "3722808d",
   "metadata": {},
   "source": [
    "## Arithmetic Operations\n",
    "\n",
    "Addition +\n",
    "Subtration -\n",
    "Division /\n",
    "Multiplication *\n",
    "Exponential **\n",
    "Modulus %\n",
    "Floor Division //"
   ]
  },
  {
   "cell_type": "code",
   "execution_count": 5,
   "id": "68bbc99f",
   "metadata": {},
   "outputs": [
    {
     "data": {
      "text/plain": [
       "4"
      ]
     },
     "execution_count": 5,
     "metadata": {},
     "output_type": "execute_result"
    }
   ],
   "source": [
    "24 + 16\n",
    "47 - 17\n",
    "5 * 8\n",
    "80 / 10\n",
    "3 ** 2\n",
    "4 ** 3\n",
    "9 % 2\n",
    "9 / 2\n",
    "9 // 2"
   ]
  },
  {
   "cell_type": "code",
   "execution_count": 6,
   "id": "de1f1439",
   "metadata": {},
   "outputs": [
    {
     "data": {
      "text/plain": [
       "30"
      ]
     },
     "execution_count": 6,
     "metadata": {},
     "output_type": "execute_result"
    }
   ],
   "source": [
    "47 - 17\n"
   ]
  },
  {
   "cell_type": "code",
   "execution_count": 7,
   "id": "6362a5e2",
   "metadata": {},
   "outputs": [
    {
     "data": {
      "text/plain": [
       "40"
      ]
     },
     "execution_count": 7,
     "metadata": {},
     "output_type": "execute_result"
    }
   ],
   "source": [
    "5 * 8"
   ]
  },
  {
   "cell_type": "code",
   "execution_count": null,
   "id": "a7dd9077",
   "metadata": {},
   "outputs": [],
   "source": []
  },
  {
   "cell_type": "code",
   "execution_count": null,
   "id": "8e302f8f",
   "metadata": {},
   "outputs": [],
   "source": []
  }
 ],
 "metadata": {
  "kernelspec": {
   "display_name": "Python 3 (ipykernel)",
   "language": "python",
   "name": "python3"
  },
  "language_info": {
   "codemirror_mode": {
    "name": "ipython",
    "version": 3
   },
   "file_extension": ".py",
   "mimetype": "text/x-python",
   "name": "python",
   "nbconvert_exporter": "python",
   "pygments_lexer": "ipython3",
   "version": "3.8.10"
  }
 },
 "nbformat": 4,
 "nbformat_minor": 5
}
